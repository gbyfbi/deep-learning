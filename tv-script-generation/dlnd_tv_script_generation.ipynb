{
 "cells": [
  {
   "cell_type": "markdown",
   "metadata": {},
   "source": [
    "# TV Script Generation\n",
    "In this project, you'll generate your own [Simpsons](https://en.wikipedia.org/wiki/The_Simpsons) TV scripts using RNNs.  You'll be using part of the [Simpsons dataset](https://www.kaggle.com/wcukierski/the-simpsons-by-the-data) of scripts from 27 seasons.  The Neural Network you'll build will generate a new TV script for a scene at [Moe's Tavern](https://simpsonswiki.com/wiki/Moe's_Tavern).\n",
    "## Get the Data\n",
    "The data is already provided for you.  You'll be using a subset of the original dataset.  It consists of only the scenes in Moe's Tavern.  This doesn't include other versions of the tavern, like \"Moe's Cavern\", \"Flaming Moe's\", \"Uncle Moe's Family Feed-Bag\", etc.."
   ]
  },
  {
   "cell_type": "code",
   "execution_count": 2,
   "metadata": {
    "collapsed": true
   },
   "outputs": [],
   "source": [
    "\"\"\"\n",
    "DON'T MODIFY ANYTHING IN THIS CELL\n",
    "\"\"\"\n",
    "import helper\n",
    "\n",
    "data_dir = './data/simpsons/moes_tavern_lines.txt'\n",
    "text = helper.load_data(data_dir)\n",
    "# Ignore notice, since we don't use it for analysing the data\n",
    "text = text[81:]"
   ]
  },
  {
   "cell_type": "markdown",
   "metadata": {},
   "source": [
    "## Explore the Data\n",
    "Play around with `view_sentence_range` to view different parts of the data."
   ]
  },
  {
   "cell_type": "code",
   "execution_count": 3,
   "metadata": {},
   "outputs": [
    {
     "name": "stdout",
     "output_type": "stream",
     "text": [
      "Dataset Stats\n",
      "Roughly the number of unique words: 11492\n",
      "Number of scenes: 262\n",
      "Average number of sentences in each scene: 15.2519083969\n",
      "Number of lines: 4258\n",
      "Average number of words in each line: 11.5016439643\n",
      "()\n",
      "The sentences 0 to 10:\n",
      "\n",
      "Moe_Szyslak: (INTO PHONE) Moe's Tavern. Where the elite meet to drink.\n",
      "Bart_Simpson: Eh, yeah, hello, is Mike there? Last name, Rotch.\n",
      "Moe_Szyslak: (INTO PHONE) Hold on, I'll check. (TO BARFLIES) Mike Rotch. Mike Rotch. Hey, has anybody seen Mike Rotch, lately?\n",
      "Moe_Szyslak: (INTO PHONE) Listen you little puke. One of these days I'm gonna catch you, and I'm gonna carve my name on your back with an ice pick.\n",
      "Moe_Szyslak: What's the matter Homer? You're not your normal effervescent self.\n",
      "Homer_Simpson: I got my problems, Moe. Give me another one.\n",
      "Moe_Szyslak: Homer, hey, you should not drink to forget your problems.\n",
      "Barney_Gumble: Yeah, you should only drink to enhance your social skills.\n",
      "\n"
     ]
    }
   ],
   "source": [
    "view_sentence_range = (0, 10)\n",
    "\n",
    "\"\"\"\n",
    "DON'T MODIFY ANYTHING IN THIS CELL\n",
    "\"\"\"\n",
    "import numpy as np\n",
    "\n",
    "print('Dataset Stats')\n",
    "print('Roughly the number of unique words: {}'.format(len({word: None for word in text.split()})))\n",
    "scenes = text.split('\\n\\n')\n",
    "print('Number of scenes: {}'.format(len(scenes)))\n",
    "sentence_count_scene = [scene.count('\\n') for scene in scenes]\n",
    "print('Average number of sentences in each scene: {}'.format(np.average(sentence_count_scene)))\n",
    "\n",
    "sentences = [sentence for scene in scenes for sentence in scene.split('\\n')]\n",
    "print('Number of lines: {}'.format(len(sentences)))\n",
    "word_count_sentence = [len(sentence.split()) for sentence in sentences]\n",
    "print('Average number of words in each line: {}'.format(np.average(word_count_sentence)))\n",
    "\n",
    "print()\n",
    "print('The sentences {} to {}:'.format(*view_sentence_range))\n",
    "print('\\n'.join(text.split('\\n')[view_sentence_range[0]:view_sentence_range[1]]))"
   ]
  },
  {
   "cell_type": "markdown",
   "metadata": {},
   "source": [
    "## Implement Preprocessing Functions\n",
    "The first thing to do to any dataset is preprocessing.  Implement the following preprocessing functions below:\n",
    "- Lookup Table\n",
    "- Tokenize Punctuation\n",
    "\n",
    "### Lookup Table\n",
    "To create a word embedding, you first need to transform the words to ids.  In this function, create two dictionaries:\n",
    "- Dictionary to go from the words to an id, we'll call `vocab_to_int`\n",
    "- Dictionary to go from the id to word, we'll call `int_to_vocab`\n",
    "\n",
    "Return these dictionaries in the following tuple `(vocab_to_int, int_to_vocab)`"
   ]
  },
  {
   "cell_type": "code",
   "execution_count": 4,
   "metadata": {},
   "outputs": [
    {
     "name": "stdout",
     "output_type": "stream",
     "text": [
      "Tests Passed\n"
     ]
    }
   ],
   "source": [
    "import numpy as np\n",
    "import problem_unittests as tests\n",
    "\n",
    "def create_lookup_tables(text):\n",
    "    \"\"\"\n",
    "    Create lookup tables for vocabulary\n",
    "    :param text: The text of tv scripts split into words\n",
    "    :return: A tuple of dicts (vocab_to_int, int_to_vocab)\n",
    "    \"\"\"\n",
    "    # TODO: Implement Function\n",
    "    words = text\n",
    "    word_set = set(words)\n",
    "    indeces = range(len(word_set))\n",
    "    return dict(zip(word_set, indeces)), dict(zip(indeces, word_set))\n",
    "\n",
    "\n",
    "\"\"\"\n",
    "DON'T MODIFY ANYTHING IN THIS CELL THAT IS BELOW THIS LINE\n",
    "\"\"\"\n",
    "tests.test_create_lookup_tables(create_lookup_tables)"
   ]
  },
  {
   "cell_type": "markdown",
   "metadata": {},
   "source": [
    "### Tokenize Punctuation\n",
    "We'll be splitting the script into a word array using spaces as delimiters.  However, punctuations like periods and exclamation marks make it hard for the neural network to distinguish between the word \"bye\" and \"bye!\".\n",
    "\n",
    "Implement the function `token_lookup` to return a dict that will be used to tokenize symbols like \"!\" into \"||Exclamation_Mark||\".  Create a dictionary for the following symbols where the symbol is the key and value is the token:\n",
    "- Period ( . )\n",
    "- Comma ( , )\n",
    "- Quotation Mark ( \" )\n",
    "- Semicolon ( ; )\n",
    "- Exclamation mark ( ! )\n",
    "- Question mark ( ? )\n",
    "- Left Parentheses ( ( )\n",
    "- Right Parentheses ( ) )\n",
    "- Dash ( -- )\n",
    "- Return ( \\n )\n",
    "\n",
    "This dictionary will be used to token the symbols and add the delimiter (space) around it.  This separates the symbols as it's own word, making it easier for the neural network to predict on the next word. Make sure you don't use a token that could be confused as a word. Instead of using the token \"dash\", try using something like \"||dash||\"."
   ]
  },
  {
   "cell_type": "code",
   "execution_count": 5,
   "metadata": {},
   "outputs": [
    {
     "name": "stdout",
     "output_type": "stream",
     "text": [
      "Tests Passed\n"
     ]
    }
   ],
   "source": [
    "def token_lookup():\n",
    "    \"\"\"\n",
    "    Generate a dict to turn punctuation into a token.\n",
    "    :return: Tokenize dictionary where the key is the punctuation and the value is the token\n",
    "    \"\"\"\n",
    "    # TODO: Implement Function\n",
    "    \n",
    "    return {'.': \"||Period||\", ',':\"||Comma||\", '\"': \"||Quotation_Mark||\", ';':\"||Semicolon||\", '!':\"||Exclamation_mark||\",\n",
    "            '?': \"||Question_mark||\", '(': \"||Left_parentheses||\", ')': \"||Right_parentheses||\", '--':\"||Dash||\", '\\n': \"||Return||\"}\n",
    "\n",
    "\"\"\"\n",
    "DON'T MODIFY ANYTHING IN THIS CELL THAT IS BELOW THIS LINE\n",
    "\"\"\"\n",
    "tests.test_tokenize(token_lookup)"
   ]
  },
  {
   "cell_type": "code",
   "execution_count": 6,
   "metadata": {
    "collapsed": true
   },
   "outputs": [],
   "source": [
    "\"\"\"\n",
    "DON'T MODIFY ANYTHING IN THIS CELL\n",
    "\"\"\"\n",
    "# Preprocess Training, Validation, and Testing Data\n",
    "helper.preprocess_and_save_data(data_dir, token_lookup, create_lookup_tables)"
   ]
  },
  {
   "cell_type": "markdown",
   "metadata": {},
   "source": [
    "# Check Point\n",
    "This is your first checkpoint. If you ever decide to come back to this notebook or have to restart the notebook, you can start from here. The preprocessed data has been saved to disk."
   ]
  },
  {
   "cell_type": "code",
   "execution_count": 7,
   "metadata": {
    "collapsed": true
   },
   "outputs": [],
   "source": [
    "\"\"\"\n",
    "DON'T MODIFY ANYTHING IN THIS CELL\n",
    "\"\"\"\n",
    "import helper\n",
    "import numpy as np\n",
    "import problem_unittests as tests\n",
    "\n",
    "int_text, vocab_to_int, int_to_vocab, token_dict = helper.load_preprocess()"
   ]
  },
  {
   "cell_type": "markdown",
   "metadata": {},
   "source": [
    "## Build the Neural Network\n",
    "You'll build the components necessary to build a RNN by implementing the following functions below:\n",
    "- get_inputs\n",
    "- get_init_cell\n",
    "- get_embed\n",
    "- build_rnn\n",
    "- build_nn\n",
    "- get_batches\n",
    "\n",
    "### Check the Version of TensorFlow and Access to GPU"
   ]
  },
  {
   "cell_type": "code",
   "execution_count": 8,
   "metadata": {},
   "outputs": [
    {
     "name": "stdout",
     "output_type": "stream",
     "text": [
      "TensorFlow Version: 1.2.0\n",
      "Default GPU Device: /gpu:0\n"
     ]
    }
   ],
   "source": [
    "\"\"\"\n",
    "DON'T MODIFY ANYTHING IN THIS CELL\n",
    "\"\"\"\n",
    "from distutils.version import LooseVersion\n",
    "import warnings\n",
    "import tensorflow as tf\n",
    "\n",
    "# Check TensorFlow Version\n",
    "assert LooseVersion(tf.__version__) >= LooseVersion('1.0'), 'Please use TensorFlow version 1.0 or newer'\n",
    "print('TensorFlow Version: {}'.format(tf.__version__))\n",
    "\n",
    "# Check for a GPU\n",
    "if not tf.test.gpu_device_name():\n",
    "    warnings.warn('No GPU found. Please use a GPU to train your neural network.')\n",
    "else:\n",
    "    print('Default GPU Device: {}'.format(tf.test.gpu_device_name()))"
   ]
  },
  {
   "cell_type": "markdown",
   "metadata": {},
   "source": [
    "## Preprocess all the data and save it\n",
    "Running the code cell below will preprocess all the data and save it to file."
   ]
  },
  {
   "cell_type": "markdown",
   "metadata": {},
   "source": [
    "### Input\n",
    "Implement the `get_inputs()` function to create TF Placeholders for the Neural Network.  It should create the following placeholders:\n",
    "- Input text placeholder named \"input\" using the [TF Placeholder](https://www.tensorflow.org/api_docs/python/tf/placeholder) `name` parameter.\n",
    "- Targets placeholder\n",
    "- Learning Rate placeholder\n",
    "\n",
    "Return the placeholders in the following tuple `(Input, Targets, LearningRate)`"
   ]
  },
  {
   "cell_type": "code",
   "execution_count": 9,
   "metadata": {},
   "outputs": [
    {
     "name": "stdout",
     "output_type": "stream",
     "text": [
      "Tests Passed\n"
     ]
    }
   ],
   "source": [
    "def get_inputs():\n",
    "    \"\"\"\n",
    "    Create TF Placeholders for input, targets, and learning rate.\n",
    "    :return: Tuple (input, targets, learning rate)\n",
    "    \"\"\"\n",
    "    # TODO: Implement Function\n",
    "    Input = tf.placeholder(tf.int32, [None, None], name=\"input\")\n",
    "    Targets = tf.placeholder(tf.int32, [None, None])\n",
    "    LearningRate = tf.placeholder(tf.float32)\n",
    "    return (Input, Targets, LearningRate)\n",
    "\n",
    "\n",
    "\"\"\"\n",
    "DON'T MODIFY ANYTHING IN THIS CELL THAT IS BELOW THIS LINE\n",
    "\"\"\"\n",
    "tests.test_get_inputs(get_inputs)"
   ]
  },
  {
   "cell_type": "markdown",
   "metadata": {},
   "source": [
    "### Build RNN Cell and Initialize\n",
    "Stack one or more [`BasicLSTMCells`](https://www.tensorflow.org/api_docs/python/tf/contrib/rnn/BasicLSTMCell) in a [`MultiRNNCell`](https://www.tensorflow.org/api_docs/python/tf/contrib/rnn/MultiRNNCell).\n",
    "- The Rnn size should be set using `rnn_size`\n",
    "- Initalize Cell State using the MultiRNNCell's [`zero_state()`](https://www.tensorflow.org/api_docs/python/tf/contrib/rnn/MultiRNNCell#zero_state) function\n",
    "    - Apply the name \"initial_state\" to the initial state using [`tf.identity()`](https://www.tensorflow.org/api_docs/python/tf/identity)\n",
    "\n",
    "Return the cell and initial state in the following tuple `(Cell, InitialState)`"
   ]
  },
  {
   "cell_type": "code",
   "execution_count": 10,
   "metadata": {},
   "outputs": [
    {
     "name": "stdout",
     "output_type": "stream",
     "text": [
      "Tests Passed\n"
     ]
    }
   ],
   "source": [
    "def get_init_cell(batch_size, rnn_size):\n",
    "    \"\"\"\n",
    "    Create an RNN Cell and initialize it.\n",
    "    :param batch_size: Size of batches\n",
    "    :param rnn_size: Size of RNNs\n",
    "    :return: Tuple (cell, initialize state)\n",
    "    \"\"\"\n",
    "    # TODO: Implement Function\n",
    "    lstm = tf.contrib.rnn.BasicLSTMCell(rnn_size)\n",
    "    cell = tf.contrib.rnn.MultiRNNCell([lstm])\n",
    "    initial_state = cell.zero_state(batch_size, tf.float32)\n",
    "    initial_state = tf.identity(initial_state, name='initial_state')\n",
    "    return cell, initial_state\n",
    "\n",
    "\n",
    "\"\"\"\n",
    "DON'T MODIFY ANYTHING IN THIS CELL THAT IS BELOW THIS LINE\n",
    "\"\"\"\n",
    "tests.test_get_init_cell(get_init_cell)"
   ]
  },
  {
   "cell_type": "markdown",
   "metadata": {},
   "source": [
    "### Word Embedding\n",
    "Apply embedding to `input_data` using TensorFlow.  Return the embedded sequence."
   ]
  },
  {
   "cell_type": "code",
   "execution_count": 11,
   "metadata": {},
   "outputs": [
    {
     "name": "stdout",
     "output_type": "stream",
     "text": [
      "input shape:\n",
      "(50, 5)\n",
      "Tensor(\"Placeholder:0\", shape=(50, 5), dtype=int32)\n",
      "embed shape:\n",
      "(50, 5, 256)\n",
      "Tests Passed\n"
     ]
    }
   ],
   "source": [
    "def get_embed(input_data, vocab_size, embed_dim):\n",
    "    \"\"\"\n",
    "    Create embedding for <input_data>.\n",
    "    :param input_data: TF placeholder for text input.\n",
    "    :param vocab_size: Number of words in vocabulary.\n",
    "    :param embed_dim: Number of embedding dimensions\n",
    "    :return: Embedded input.\n",
    "    \"\"\"    \n",
    "    print(\"input shape:\")\n",
    "    print(input_data.shape)\n",
    "    print(input_data)\n",
    "    embeddings = tf.Variable(tf.random_normal([vocab_size, embed_dim], stddev=0.1), name='embeddings')\n",
    "    embed = tf.nn.embedding_lookup(embeddings, input_data, name='embed')\n",
    "    print(\"embed shape:\")\n",
    "    print(embed.shape)\n",
    "    return embed\n",
    "\n",
    "\n",
    "\"\"\"\n",
    "DON'T MODIFY ANYTHING IN THIS CELL THAT IS BELOW THIS LINE\n",
    "\"\"\"\n",
    "tests.test_get_embed(get_embed)"
   ]
  },
  {
   "cell_type": "markdown",
   "metadata": {},
   "source": [
    "### Build RNN\n",
    "You created a RNN Cell in the `get_init_cell()` function.  Time to use the cell to create a RNN.\n",
    "- Build the RNN using the [`tf.nn.dynamic_rnn()`](https://www.tensorflow.org/api_docs/python/tf/nn/dynamic_rnn)\n",
    " - Apply the name \"final_state\" to the final state using [`tf.identity()`](https://www.tensorflow.org/api_docs/python/tf/identity)\n",
    "\n",
    "Return the outputs and final_state state in the following tuple `(Outputs, FinalState)` "
   ]
  },
  {
   "cell_type": "code",
   "execution_count": 12,
   "metadata": {},
   "outputs": [
    {
     "name": "stdout",
     "output_type": "stream",
     "text": [
      "final_state:\n",
      "(2, 2, ?, 256)\n",
      "(?, ?, 256)\n",
      "Tests Passed\n"
     ]
    }
   ],
   "source": [
    "def build_rnn(cell, inputs):\n",
    "    \"\"\"\n",
    "    Create a RNN using a RNN Cell\n",
    "    :param cell: RNN Cell\n",
    "    :param inputs: Input text data\n",
    "    :return: Tuple (Outputs, Final State)\n",
    "    \"\"\"\n",
    "    outputs, final_state = tf.nn.dynamic_rnn(cell, inputs, dtype=tf.float32)\n",
    "    final_state = tf.identity(final_state, name='final_state')\n",
    "    print(\"final_state:\")\n",
    "    print(final_state.shape)\n",
    "    print(inputs.shape)\n",
    "    return (outputs, final_state)\n",
    "\n",
    "\n",
    "\"\"\"\n",
    "DON'T MODIFY ANYTHING IN THIS CELL THAT IS BELOW THIS LINE\n",
    "\"\"\"\n",
    "tests.test_build_rnn(build_rnn)"
   ]
  },
  {
   "cell_type": "markdown",
   "metadata": {},
   "source": [
    "### Build the Neural Network\n",
    "Apply the functions you implemented above to:\n",
    "- Apply embedding to `input_data` using your `get_embed(input_data, vocab_size, embed_dim)` function.\n",
    "- Build RNN using `cell` and your `build_rnn(cell, inputs)` function.\n",
    "- Apply a fully connected layer with a linear activation and `vocab_size` as the number of outputs.\n",
    "\n",
    "Return the logits and final state in the following tuple (Logits, FinalState) "
   ]
  },
  {
   "cell_type": "code",
   "execution_count": 13,
   "metadata": {},
   "outputs": [
    {
     "name": "stdout",
     "output_type": "stream",
     "text": [
      "256\n",
      "27\n",
      "300\n",
      "(128, 5)\n",
      "input shape:\n",
      "(128, 5)\n",
      "Tensor(\"Placeholder:0\", shape=(128, 5), dtype=int32)\n",
      "embed shape:\n",
      "(128, 5, 300)\n",
      "(128, 5, 300)\n",
      "final_state:\n",
      "(2, 2, 128, 256)\n",
      "(128, 5, 300)\n",
      "(128, 5, 27)\n",
      "(2, 2, 128, 256)\n",
      "Tests Passed\n"
     ]
    }
   ],
   "source": [
    "def build_nn(cell, rnn_size, input_data, vocab_size, embed_dim):\n",
    "    \"\"\"\n",
    "    Build part of the neural network\n",
    "    :param cell: RNN cell\n",
    "    :param rnn_size: Size of rnns\n",
    "    :param input_data: Input data\n",
    "    :param vocab_size: Vocabulary size\n",
    "    :param embed_dim: Number of embedding dimensions\n",
    "    :return: Tuple (Logits, FinalState)\n",
    "    \"\"\"\n",
    "    print(rnn_size)\n",
    "    print(vocab_size)\n",
    "    print(embed_dim)\n",
    "    print(input_data.shape)\n",
    "    embed = get_embed(input_data, vocab_size, embed_dim)\n",
    "    print(embed.shape)\n",
    "    outputs, final_state = build_rnn(cell, embed)\n",
    "    logits = tf.contrib.layers.fully_connected(outputs, vocab_size, activation_fn=None)\n",
    "    print(logits.get_shape())\n",
    "    print(final_state.get_shape())\n",
    "#     print([test_rnn_layer_size, 2, None, test_rnn_size]\n",
    "    return (logits, final_state)\n",
    "\n",
    "\"\"\"\n",
    "DON'T MODIFY ANYTHING IN THIS CELL THAT IS BELOW THIS LINE\n",
    "\"\"\"\n",
    "tests.test_build_nn(build_nn)"
   ]
  },
  {
   "cell_type": "markdown",
   "metadata": {},
   "source": [
    "### Batches\n",
    "Implement `get_batches` to create batches of input and targets using `int_text`.  The batches should be a Numpy array with the shape `(number of batches, 2, batch size, sequence length)`. Each batch contains two elements:\n",
    "- The first element is a single batch of **input** with the shape `[batch size, sequence length]`\n",
    "- The second element is a single batch of **targets** with the shape `[batch size, sequence length]`\n",
    "\n",
    "If you can't fill the last batch with enough data, drop the last batch.\n",
    "\n",
    "For exmple, `get_batches([1, 2, 3, 4, 5, 6, 7, 8, 9, 10, 11, 12, 13, 14, 15, 16, 17, 18, 19, 20], 3, 2)` would return a Numpy array of the following:\n",
    "```\n",
    "[\n",
    "  # First Batch\n",
    "  [\n",
    "    # Batch of Input\n",
    "    [[ 1  2], [ 7  8], [13 14]]\n",
    "    # Batch of targets\n",
    "    [[ 2  3], [ 8  9], [14 15]]\n",
    "  ]\n",
    "\n",
    "  # Second Batch\n",
    "  [\n",
    "    # Batch of Input\n",
    "    [[ 3  4], [ 9 10], [15 16]]\n",
    "    # Batch of targets\n",
    "    [[ 4  5], [10 11], [16 17]]\n",
    "  ]\n",
    "\n",
    "  # Third Batch\n",
    "  [\n",
    "    # Batch of Input\n",
    "    [[ 5  6], [11 12], [17 18]]\n",
    "    # Batch of targets\n",
    "    [[ 6  7], [12 13], [18  1]]\n",
    "  ]\n",
    "]\n",
    "```\n",
    "\n",
    "Notice that the last target value in the last batch is the first input value of the first batch. In this case, `1`. This is a common technique used when creating sequence batches, although it is rather unintuitive."
   ]
  },
  {
   "cell_type": "code",
   "execution_count": 14,
   "metadata": {},
   "outputs": [
    {
     "name": "stdout",
     "output_type": "stream",
     "text": [
      "Tests Passed\n"
     ]
    }
   ],
   "source": [
    "def get_batches(int_text, batch_size, seq_length):\n",
    "    \"\"\"\n",
    "    Return batches of input and target\n",
    "    :param int_text: Text with the words replaced by their ids\n",
    "    :param batch_size: The size of batch\n",
    "    :param seq_length: The length of sequence\n",
    "    :return: Batches as a Numpy array\n",
    "    \"\"\"\n",
    "    num_batches = len(int_text) // (batch_size  * seq_length)\n",
    "    # Drop long batches. Transform into a numpy array and reshape it for our purposes\n",
    "    np_text = np.array(int_text[:num_batches * (batch_size  * seq_length)])\n",
    "    # Reshape the data to give us the inputs sequence.\n",
    "    in_text = np_text.reshape(-1, seq_length)\n",
    "    # Roll (shift) and reshape to get target sequences (maybe not optimal)\n",
    "    tar_text = np.roll(np_text, -1).reshape(-1, seq_length)\n",
    "    output = np.zeros(shape=(num_batches, 2, batch_size, seq_length), dtype=np.int)\n",
    "    # Prepare the output\n",
    "    for idx in range(0, in_text.shape[0]):\n",
    "        jj = idx % num_batches\n",
    "        ii = idx // num_batches\n",
    "        output[jj,0,ii,:] = in_text[idx,:]\n",
    "        output[jj,1,ii,:] = tar_text[idx,:]\n",
    "    #print(output)\n",
    "    return output\n",
    "\n",
    "\n",
    "\"\"\"\n",
    "DON'T MODIFY ANYTHING IN THIS CELL THAT IS BELOW THIS LINE\n",
    "\"\"\"\n",
    "tests.test_get_batches(get_batches)"
   ]
  },
  {
   "cell_type": "markdown",
   "metadata": {},
   "source": [
    "## Neural Network Training\n",
    "### Hyperparameters\n",
    "Tune the following parameters:\n",
    "\n",
    "- Set `num_epochs` to the number of epochs.\n",
    "- Set `batch_size` to the batch size.\n",
    "- Set `rnn_size` to the size of the RNNs.\n",
    "- Set `embed_dim` to the size of the embedding.\n",
    "- Set `seq_length` to the length of sequence.\n",
    "- Set `learning_rate` to the learning rate.\n",
    "- Set `show_every_n_batches` to the number of batches the neural network should print progress."
   ]
  },
  {
   "cell_type": "code",
   "execution_count": 15,
   "metadata": {
    "collapsed": true
   },
   "outputs": [],
   "source": [
    "# Number of Epochs\n",
    "num_epochs = 256\n",
    "# Batch Size\n",
    "batch_size = 128\n",
    "# Embedding Dimension Size\n",
    "embed_dim = 256\n",
    "# RNN Size\n",
    "rnn_size = 256\n",
    "# Sequence Length\n",
    "seq_length = 100\n",
    "# Learning Rate\n",
    "learning_rate = 0.01\n",
    "# Show stats for every n number of batches\n",
    "show_every_n_batches = 8\n",
    "\"\"\"\n",
    "DON'T MODIFY ANYTHING IN THIS CELL THAT IS BELOW THIS LINE\n",
    "\"\"\"\n",
    "save_dir = './save'"
   ]
  },
  {
   "cell_type": "markdown",
   "metadata": {},
   "source": [
    "### Build the Graph\n",
    "Build the graph using the neural network you implemented."
   ]
  },
  {
   "cell_type": "code",
   "execution_count": 31,
   "metadata": {},
   "outputs": [
    {
     "name": "stdout",
     "output_type": "stream",
     "text": [
      "256\n",
      "6780\n",
      "256\n",
      "(?, ?)\n",
      "input shape:\n",
      "(?, ?)\n",
      "Tensor(\"input:0\", shape=(?, ?), dtype=int32)\n",
      "embed shape:\n",
      "(?, ?, 256)\n",
      "(?, ?, 256)\n",
      "final_state:\n",
      "(1, 2, ?, 256)\n",
      "(?, ?, 256)\n",
      "(?, ?, 6780)\n",
      "(1, 2, ?, 256)\n",
      "logits shape\n",
      "(?, ?, 6780)\n",
      "ProbShape\n",
      "(?, ?, 6780)\n"
     ]
    }
   ],
   "source": [
    "\"\"\"\n",
    "DON'T MODIFY ANYTHING IN THIS CELL\n",
    "\"\"\"\n",
    "from tensorflow.contrib import seq2seq\n",
    "\n",
    "train_graph = tf.Graph()\n",
    "with train_graph.as_default():\n",
    "    vocab_size = len(int_to_vocab)\n",
    "    input_text, targets, lr = get_inputs()\n",
    "    input_data_shape = tf.shape(input_text)\n",
    "    cell, initial_state = get_init_cell(input_data_shape[0], rnn_size)\n",
    "    logits, final_state = build_nn(cell, rnn_size, input_text, vocab_size, embed_dim)\n",
    "    print(\"logits shape\")\n",
    "    print(logits.shape)\n",
    "    # Probabilities for generating words\n",
    "    probs = tf.nn.softmax(logits, name='probs')\n",
    "    print(\"ProbShape\")\n",
    "    print(probs.shape)\n",
    "    # Loss function\n",
    "    cost = seq2seq.sequence_loss(\n",
    "        logits,\n",
    "        targets,\n",
    "        tf.ones([input_data_shape[0], input_data_shape[1]]))\n",
    "\n",
    "    # Optimizer\n",
    "    optimizer = tf.train.AdamOptimizer(lr)\n",
    "\n",
    "    # Gradient Clipping\n",
    "    gradients = optimizer.compute_gradients(cost)\n",
    "    capped_gradients = [(tf.clip_by_value(grad, -1., 1.), var) for grad, var in gradients if grad is not None]\n",
    "    train_op = optimizer.apply_gradients(capped_gradients)"
   ]
  },
  {
   "cell_type": "markdown",
   "metadata": {},
   "source": [
    "## Train\n",
    "Train the neural network on the preprocessed data.  If you have a hard time getting a good loss, check the [forums](https://discussions.udacity.com/) to see if anyone is having the same problem."
   ]
  },
  {
   "cell_type": "code",
   "execution_count": 17,
   "metadata": {},
   "outputs": [
    {
     "name": "stdout",
     "output_type": "stream",
     "text": [
      "Epoch   0 Batch    0/5   train_loss = 8.822\n",
      "Epoch   1 Batch    3/5   train_loss = 5.952\n",
      "Epoch   3 Batch    1/5   train_loss = 5.894\n",
      "Epoch   4 Batch    4/5   train_loss = 5.561\n",
      "Epoch   6 Batch    2/5   train_loss = 5.192\n",
      "Epoch   8 Batch    0/5   train_loss = 4.936\n",
      "Epoch   9 Batch    3/5   train_loss = 4.638\n",
      "Epoch  11 Batch    1/5   train_loss = 4.418\n",
      "Epoch  12 Batch    4/5   train_loss = 4.204\n",
      "Epoch  14 Batch    2/5   train_loss = 4.015\n",
      "Epoch  16 Batch    0/5   train_loss = 3.855\n",
      "Epoch  17 Batch    3/5   train_loss = 3.681\n",
      "Epoch  19 Batch    1/5   train_loss = 3.530\n",
      "Epoch  20 Batch    4/5   train_loss = 3.391\n",
      "Epoch  22 Batch    2/5   train_loss = 3.282\n",
      "Epoch  24 Batch    0/5   train_loss = 3.124\n",
      "Epoch  25 Batch    3/5   train_loss = 2.998\n",
      "Epoch  27 Batch    1/5   train_loss = 2.891\n",
      "Epoch  28 Batch    4/5   train_loss = 2.771\n",
      "Epoch  30 Batch    2/5   train_loss = 2.737\n",
      "Epoch  32 Batch    0/5   train_loss = 2.589\n",
      "Epoch  33 Batch    3/5   train_loss = 2.493\n",
      "Epoch  35 Batch    1/5   train_loss = 2.408\n",
      "Epoch  36 Batch    4/5   train_loss = 2.300\n",
      "Epoch  38 Batch    2/5   train_loss = 2.265\n",
      "Epoch  40 Batch    0/5   train_loss = 2.157\n",
      "Epoch  41 Batch    3/5   train_loss = 2.093\n",
      "Epoch  43 Batch    1/5   train_loss = 2.036\n",
      "Epoch  44 Batch    4/5   train_loss = 1.968\n",
      "Epoch  46 Batch    2/5   train_loss = 1.932\n",
      "Epoch  48 Batch    0/5   train_loss = 1.873\n",
      "Epoch  49 Batch    3/5   train_loss = 1.777\n",
      "Epoch  51 Batch    1/5   train_loss = 1.747\n",
      "Epoch  52 Batch    4/5   train_loss = 1.647\n",
      "Epoch  54 Batch    2/5   train_loss = 1.626\n",
      "Epoch  56 Batch    0/5   train_loss = 1.538\n",
      "Epoch  57 Batch    3/5   train_loss = 1.505\n",
      "Epoch  59 Batch    1/5   train_loss = 1.471\n",
      "Epoch  60 Batch    4/5   train_loss = 1.429\n",
      "Epoch  62 Batch    2/5   train_loss = 1.417\n",
      "Epoch  64 Batch    0/5   train_loss = 1.318\n",
      "Epoch  65 Batch    3/5   train_loss = 1.298\n",
      "Epoch  67 Batch    1/5   train_loss = 1.262\n",
      "Epoch  68 Batch    4/5   train_loss = 1.229\n",
      "Epoch  70 Batch    2/5   train_loss = 1.247\n",
      "Epoch  72 Batch    0/5   train_loss = 1.145\n",
      "Epoch  73 Batch    3/5   train_loss = 1.130\n",
      "Epoch  75 Batch    1/5   train_loss = 1.093\n",
      "Epoch  76 Batch    4/5   train_loss = 1.062\n",
      "Epoch  78 Batch    2/5   train_loss = 1.052\n",
      "Epoch  80 Batch    0/5   train_loss = 0.979\n",
      "Epoch  81 Batch    3/5   train_loss = 0.943\n",
      "Epoch  83 Batch    1/5   train_loss = 0.965\n",
      "Epoch  84 Batch    4/5   train_loss = 0.916\n",
      "Epoch  86 Batch    2/5   train_loss = 0.933\n",
      "Epoch  88 Batch    0/5   train_loss = 0.857\n",
      "Epoch  89 Batch    3/5   train_loss = 0.821\n",
      "Epoch  91 Batch    1/5   train_loss = 0.800\n",
      "Epoch  92 Batch    4/5   train_loss = 0.761\n",
      "Epoch  94 Batch    2/5   train_loss = 0.759\n",
      "Epoch  96 Batch    0/5   train_loss = 0.702\n",
      "Epoch  97 Batch    3/5   train_loss = 0.706\n",
      "Epoch  99 Batch    1/5   train_loss = 0.697\n",
      "Epoch 100 Batch    4/5   train_loss = 0.701\n",
      "Epoch 102 Batch    2/5   train_loss = 0.684\n",
      "Epoch 104 Batch    0/5   train_loss = 0.680\n",
      "Epoch 105 Batch    3/5   train_loss = 0.639\n",
      "Epoch 107 Batch    1/5   train_loss = 0.620\n",
      "Epoch 108 Batch    4/5   train_loss = 0.573\n",
      "Epoch 110 Batch    2/5   train_loss = 0.575\n",
      "Epoch 112 Batch    0/5   train_loss = 0.531\n",
      "Epoch 113 Batch    3/5   train_loss = 0.519\n",
      "Epoch 115 Batch    1/5   train_loss = 0.511\n",
      "Epoch 116 Batch    4/5   train_loss = 0.488\n",
      "Epoch 118 Batch    2/5   train_loss = 0.506\n",
      "Epoch 120 Batch    0/5   train_loss = 0.479\n",
      "Epoch 121 Batch    3/5   train_loss = 0.469\n",
      "Epoch 123 Batch    1/5   train_loss = 0.469\n",
      "Epoch 124 Batch    4/5   train_loss = 0.441\n",
      "Epoch 126 Batch    2/5   train_loss = 0.441\n",
      "Epoch 128 Batch    0/5   train_loss = 0.401\n",
      "Epoch 129 Batch    3/5   train_loss = 0.395\n",
      "Epoch 131 Batch    1/5   train_loss = 0.393\n",
      "Epoch 132 Batch    4/5   train_loss = 0.363\n",
      "Epoch 134 Batch    2/5   train_loss = 0.412\n",
      "Epoch 136 Batch    0/5   train_loss = 0.357\n",
      "Epoch 137 Batch    3/5   train_loss = 0.375\n",
      "Epoch 139 Batch    1/5   train_loss = 0.357\n",
      "Epoch 140 Batch    4/5   train_loss = 0.328\n",
      "Epoch 142 Batch    2/5   train_loss = 0.317\n",
      "Epoch 144 Batch    0/5   train_loss = 0.295\n",
      "Epoch 145 Batch    3/5   train_loss = 0.281\n",
      "Epoch 147 Batch    1/5   train_loss = 0.268\n",
      "Epoch 148 Batch    4/5   train_loss = 0.255\n",
      "Epoch 150 Batch    2/5   train_loss = 0.255\n",
      "Epoch 152 Batch    0/5   train_loss = 0.247\n",
      "Epoch 153 Batch    3/5   train_loss = 0.244\n",
      "Epoch 155 Batch    1/5   train_loss = 0.253\n",
      "Epoch 156 Batch    4/5   train_loss = 0.245\n",
      "Epoch 158 Batch    2/5   train_loss = 0.251\n",
      "Epoch 160 Batch    0/5   train_loss = 0.224\n",
      "Epoch 161 Batch    3/5   train_loss = 0.237\n",
      "Epoch 163 Batch    1/5   train_loss = 0.219\n",
      "Epoch 164 Batch    4/5   train_loss = 0.208\n",
      "Epoch 166 Batch    2/5   train_loss = 0.201\n",
      "Epoch 168 Batch    0/5   train_loss = 0.190\n",
      "Epoch 169 Batch    3/5   train_loss = 0.179\n",
      "Epoch 171 Batch    1/5   train_loss = 0.181\n",
      "Epoch 172 Batch    4/5   train_loss = 0.178\n",
      "Epoch 174 Batch    2/5   train_loss = 0.177\n",
      "Epoch 176 Batch    0/5   train_loss = 0.169\n",
      "Epoch 177 Batch    3/5   train_loss = 0.170\n",
      "Epoch 179 Batch    1/5   train_loss = 0.161\n",
      "Epoch 180 Batch    4/5   train_loss = 0.159\n",
      "Epoch 182 Batch    2/5   train_loss = 0.153\n",
      "Epoch 184 Batch    0/5   train_loss = 0.150\n",
      "Epoch 185 Batch    3/5   train_loss = 0.139\n",
      "Epoch 187 Batch    1/5   train_loss = 0.140\n",
      "Epoch 188 Batch    4/5   train_loss = 0.131\n",
      "Epoch 190 Batch    2/5   train_loss = 0.129\n",
      "Epoch 192 Batch    0/5   train_loss = 0.121\n",
      "Epoch 193 Batch    3/5   train_loss = 0.114\n",
      "Epoch 195 Batch    1/5   train_loss = 0.112\n",
      "Epoch 196 Batch    4/5   train_loss = 0.110\n",
      "Epoch 198 Batch    2/5   train_loss = 0.111\n",
      "Epoch 200 Batch    0/5   train_loss = 0.104\n",
      "Epoch 201 Batch    3/5   train_loss = 0.101\n",
      "Epoch 203 Batch    1/5   train_loss = 0.103\n",
      "Epoch 204 Batch    4/5   train_loss = 0.101\n",
      "Epoch 206 Batch    2/5   train_loss = 0.099\n",
      "Epoch 208 Batch    0/5   train_loss = 0.096\n",
      "Epoch 209 Batch    3/5   train_loss = 0.097\n",
      "Epoch 211 Batch    1/5   train_loss = 0.095\n",
      "Epoch 212 Batch    4/5   train_loss = 0.100\n",
      "Epoch 214 Batch    2/5   train_loss = 0.093\n",
      "Epoch 216 Batch    0/5   train_loss = 0.092\n",
      "Epoch 217 Batch    3/5   train_loss = 0.088\n",
      "Epoch 219 Batch    1/5   train_loss = 0.085\n",
      "Epoch 220 Batch    4/5   train_loss = 0.084\n",
      "Epoch 222 Batch    2/5   train_loss = 0.079\n",
      "Epoch 224 Batch    0/5   train_loss = 0.074\n",
      "Epoch 225 Batch    3/5   train_loss = 0.070\n",
      "Epoch 227 Batch    1/5   train_loss = 0.068\n",
      "Epoch 228 Batch    4/5   train_loss = 0.067\n",
      "Epoch 230 Batch    2/5   train_loss = 0.066\n",
      "Epoch 232 Batch    0/5   train_loss = 0.063\n",
      "Epoch 233 Batch    3/5   train_loss = 0.060\n",
      "Epoch 235 Batch    1/5   train_loss = 0.059\n",
      "Epoch 236 Batch    4/5   train_loss = 0.059\n",
      "Epoch 238 Batch    2/5   train_loss = 0.059\n",
      "Epoch 240 Batch    0/5   train_loss = 0.058\n",
      "Epoch 241 Batch    3/5   train_loss = 0.058\n",
      "Epoch 243 Batch    1/5   train_loss = 0.056\n",
      "Epoch 244 Batch    4/5   train_loss = 0.058\n",
      "Epoch 246 Batch    2/5   train_loss = 0.065\n",
      "Epoch 248 Batch    0/5   train_loss = 0.063\n",
      "Epoch 249 Batch    3/5   train_loss = 0.068\n",
      "Epoch 251 Batch    1/5   train_loss = 0.080\n",
      "Epoch 252 Batch    4/5   train_loss = 0.106\n",
      "Epoch 254 Batch    2/5   train_loss = 0.262\n",
      "Model Trained and Saved\n"
     ]
    }
   ],
   "source": [
    "\"\"\"\n",
    "DON'T MODIFY ANYTHING IN THIS CELL\n",
    "\"\"\"\n",
    "batches = get_batches(int_text, batch_size, seq_length)\n",
    "\n",
    "with tf.Session(graph=train_graph) as sess:\n",
    "    sess.run(tf.global_variables_initializer())\n",
    "\n",
    "    for epoch_i in range(num_epochs):\n",
    "        state = sess.run(initial_state, {input_text: batches[0][0]})\n",
    "\n",
    "        for batch_i, (x, y) in enumerate(batches):\n",
    "            feed = {\n",
    "                input_text: x,\n",
    "                targets: y,\n",
    "                initial_state: state,\n",
    "                lr: learning_rate}\n",
    "            train_loss, state, _ = sess.run([cost, final_state, train_op], feed)\n",
    "\n",
    "            # Show every <show_every_n_batches> batches\n",
    "            if (epoch_i * len(batches) + batch_i) % show_every_n_batches == 0:\n",
    "                print('Epoch {:>3} Batch {:>4}/{}   train_loss = {:.3f}'.format(\n",
    "                    epoch_i,\n",
    "                    batch_i,\n",
    "                    len(batches),\n",
    "                    train_loss))\n",
    "\n",
    "    # Save Model\n",
    "    saver = tf.train.Saver()\n",
    "    saver.save(sess, save_dir)\n",
    "    print('Model Trained and Saved')"
   ]
  },
  {
   "cell_type": "markdown",
   "metadata": {},
   "source": [
    "## Save Parameters\n",
    "Save `seq_length` and `save_dir` for generating a new TV script."
   ]
  },
  {
   "cell_type": "code",
   "execution_count": 18,
   "metadata": {
    "collapsed": true
   },
   "outputs": [],
   "source": [
    "\"\"\"\n",
    "DON'T MODIFY ANYTHING IN THIS CELL\n",
    "\"\"\"\n",
    "# Save parameters for checkpoint\n",
    "helper.save_params((seq_length, save_dir))"
   ]
  },
  {
   "cell_type": "markdown",
   "metadata": {},
   "source": [
    "# Checkpoint"
   ]
  },
  {
   "cell_type": "code",
   "execution_count": 19,
   "metadata": {
    "collapsed": true
   },
   "outputs": [],
   "source": [
    "\"\"\"\n",
    "DON'T MODIFY ANYTHING IN THIS CELL\n",
    "\"\"\"\n",
    "import tensorflow as tf\n",
    "import numpy as np\n",
    "import helper\n",
    "import problem_unittests as tests\n",
    "\n",
    "_, vocab_to_int, int_to_vocab, token_dict = helper.load_preprocess()\n",
    "seq_length, load_dir = helper.load_params()"
   ]
  },
  {
   "cell_type": "markdown",
   "metadata": {},
   "source": [
    "## Implement Generate Functions\n",
    "### Get Tensors\n",
    "Get tensors from `loaded_graph` using the function [`get_tensor_by_name()`](https://www.tensorflow.org/api_docs/python/tf/Graph#get_tensor_by_name).  Get the tensors using the following names:\n",
    "- \"input:0\"\n",
    "- \"initial_state:0\"\n",
    "- \"final_state:0\"\n",
    "- \"probs:0\"\n",
    "\n",
    "Return the tensors in the following tuple `(InputTensor, InitialStateTensor, FinalStateTensor, ProbsTensor)` "
   ]
  },
  {
   "cell_type": "code",
   "execution_count": 20,
   "metadata": {},
   "outputs": [
    {
     "name": "stdout",
     "output_type": "stream",
     "text": [
      "Tests Passed\n"
     ]
    }
   ],
   "source": [
    "def get_tensors(loaded_graph):\n",
    "    \"\"\"\n",
    "    Get input, initial state, final state, and probabilities tensor from <loaded_graph>\n",
    "    :param loaded_graph: TensorFlow graph loaded from file\n",
    "    :return: Tuple (InputTensor, InitialStateTensor, FinalStateTensor, ProbsTensor)\n",
    "    \"\"\"\n",
    "    input_tensor = loaded_graph.get_tensor_by_name('input:0')\n",
    "    initial_state_tensor = loaded_graph.get_tensor_by_name('initial_state:0')\n",
    "    final_state_tensor = loaded_graph.get_tensor_by_name('final_state:0')\n",
    "    probs_tensor = loaded_graph.get_tensor_by_name('probs:0')\n",
    "    return (input_tensor, initial_state_tensor, final_state_tensor, probs_tensor)\n",
    "\n",
    "\n",
    "\"\"\"\n",
    "DON'T MODIFY ANYTHING IN THIS CELL THAT IS BELOW THIS LINE\n",
    "\"\"\"\n",
    "tests.test_get_tensors(get_tensors)"
   ]
  },
  {
   "cell_type": "markdown",
   "metadata": {},
   "source": [
    "### Choose Word\n",
    "Implement the `pick_word()` function to select the next word using `probabilities`."
   ]
  },
  {
   "cell_type": "code",
   "execution_count": 21,
   "metadata": {},
   "outputs": [
    {
     "name": "stdout",
     "output_type": "stream",
     "text": [
      "Tests Passed\n"
     ]
    }
   ],
   "source": [
    "def pick_word(probabilities, int_to_vocab):\n",
    "    \"\"\"\n",
    "    Pick the next word in the generated text\n",
    "    :param probabilities: Probabilites of the next word\n",
    "    :param int_to_vocab: Dictionary of word ids as the keys and words as the values\n",
    "    :return: String of the predicted word\n",
    "    \"\"\"\n",
    "    argmax_pr = np.argmax(probabilities)\n",
    "    next_word = int_to_vocab[argmax_pr]\n",
    "    #print(int_to_vocab)\n",
    "    #print(next_wordd)\n",
    "    return next_word\n",
    "\n",
    "\n",
    "\"\"\"\n",
    "DON'T MODIFY ANYTHING IN THIS CELL THAT IS BELOW THIS LINE\n",
    "\"\"\"\n",
    "tests.test_pick_word(pick_word)"
   ]
  },
  {
   "cell_type": "markdown",
   "metadata": {},
   "source": [
    "## Generate TV Script\n",
    "This will generate the TV script for you.  Set `gen_length` to the length of TV script you want to generate."
   ]
  },
  {
   "cell_type": "code",
   "execution_count": 35,
   "metadata": {},
   "outputs": [
    {
     "name": "stdout",
     "output_type": "stream",
     "text": [
      "INFO:tensorflow:Restoring parameters from ./save\n",
      "homer_simpson:(understanding) ooh, ooh!\n",
      "marge_simpson: someone to help marge into that money. do i have to join... i am scum.\n",
      "homer_simpson:(soothing) well, that's halfway there.\n",
      "snake_jailbird:(to duff girls) uh it's closed, there's one thing i don't care you, and the guy who hated me?\n",
      "woman:(disgusted) ew...(then) ahh. what do take maude for granted.\n",
      "barney_gumble: i got a great way to make you look good to me.\n",
      "seymour_skinner: we need a name that's witty at first, but that seems less funny each time you hear it.\n",
      "apu_nahasapeemapetilon: how about this scary face?\n",
      "lenny_leonard:(quickly) blue pants make you look at a fancy french restaurant?\n",
      "moe_szyslak: oh, no! stay outta there! aw, good god, no!\n",
      "carl_carlson: hey, check it out-- white.\n",
      "moe_szyslak: ooh...(under breath) losers.\n",
      "lenny_leonard: okay, read it.\n",
      "lenny_leonard: eh, that's the\n"
     ]
    }
   ],
   "source": [
    "gen_length = 200\n",
    "# homer_simpson, moe_szyslak, or Barney_Gumble\n",
    "prime_word = 'homer_simpson'\n",
    "\n",
    "\"\"\"\n",
    "DON'T MODIFY ANYTHING IN THIS CELL THAT IS BELOW THIS LINE\n",
    "\"\"\"\n",
    "loaded_graph = tf.Graph()\n",
    "with tf.Session(graph=loaded_graph) as sess:\n",
    "    # Load saved model\n",
    "    loader = tf.train.import_meta_graph(load_dir + '.meta')\n",
    "    loader.restore(sess, load_dir)\n",
    "\n",
    "    # Get Tensors from loaded model\n",
    "    input_text, initial_state, final_state, probs = get_tensors(loaded_graph)\n",
    "\n",
    "    # Sentences generation setup\n",
    "    gen_sentences = [prime_word + ':']\n",
    "    prev_state = sess.run(initial_state, {input_text: np.array([[1]])})\n",
    "\n",
    "    # Generate sentences\n",
    "    for n in range(gen_length):\n",
    "        # Dynamic Input\n",
    "        dyn_input = [[vocab_to_int[word] for word in gen_sentences[-seq_length:]]]\n",
    "        dyn_seq_length = len(dyn_input[0])\n",
    "\n",
    "        # Get Prediction\n",
    "        probabilities, prev_state = sess.run(\n",
    "            [probs, final_state],\n",
    "            {input_text: dyn_input, initial_state: prev_state})\n",
    "        \n",
    "        pred_word = pick_word(probabilities[0, dyn_seq_length-1], int_to_vocab)\n",
    "\n",
    "        gen_sentences.append(pred_word)\n",
    "    \n",
    "    # Remove tokens\n",
    "    tv_script = ' '.join(gen_sentences)\n",
    "    for key, token in token_dict.items():\n",
    "        ending = ' ' if key in ['\\n', '(', '\"'] else ''\n",
    "        tv_script = tv_script.replace(' ' + token.lower(), key)\n",
    "    tv_script = tv_script.replace('\\n ', '\\n')\n",
    "    tv_script = tv_script.replace('( ', '(')\n",
    "        \n",
    "    print(tv_script)"
   ]
  },
  {
   "cell_type": "markdown",
   "metadata": {},
   "source": [
    "# The TV Script is Nonsensical\n",
    "It's ok if the TV script doesn't make any sense.  We trained on less than a megabyte of text.  In order to get good results, you'll have to use a smaller vocabulary or get more data.  Luckly there's more data!  As we mentioned in the begging of this project, this is a subset of [another dataset](https://www.kaggle.com/wcukierski/the-simpsons-by-the-data).  We didn't have you train on all the data, because that would take too long.  However, you are free to train your neural network on all the data.  After you complete the project, of course.\n",
    "# Submitting This Project\n",
    "When submitting this project, make sure to run all the cells before saving the notebook. Save the notebook file as \"dlnd_tv_script_generation.ipynb\" and save it as a HTML file under \"File\" -> \"Download as\". Include the \"helper.py\" and \"problem_unittests.py\" files in your submission."
   ]
  }
 ],
 "metadata": {
  "kernelspec": {
   "display_name": "Python 2",
   "language": "python",
   "name": "python2"
  },
  "language_info": {
   "codemirror_mode": {
    "name": "ipython",
    "version": 2
   },
   "file_extension": ".py",
   "mimetype": "text/x-python",
   "name": "python",
   "nbconvert_exporter": "python",
   "pygments_lexer": "ipython2",
   "version": "2.7.12"
  },
  "widgets": {
   "state": {},
   "version": "1.1.2"
  }
 },
 "nbformat": 4,
 "nbformat_minor": 1
}
